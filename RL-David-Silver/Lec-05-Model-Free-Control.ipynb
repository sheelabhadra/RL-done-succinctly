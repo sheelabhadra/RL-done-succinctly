{
 "cells": [
  {
   "cell_type": "markdown",
   "metadata": {},
   "source": [
    "# Lecture 5: Model Free Control"
   ]
  },
  {
   "cell_type": "markdown",
   "metadata": {},
   "source": [
    "### Model-Free RL\n",
    "* On-policy learning: The actions that we take determine the policy that we are trying to evaluate\n",
    "    * Learn on the job\n",
    "    * Learn about policy $\\pi$ from experience sampled from $\\pi$\n",
    "* Off-policy learning: Observing behavior from other agent or from samples of behavior from other sources\n",
    "    * Look over someone's shoulder\n",
    "    * Learn about policy $\\pi$ from experience sampled from $\\mu$\n",
    "    \n",
    "<img src=\"Figures/05-monte-carlo-v.png\" style=\"width: 550px;\"/>\n",
    "\n",
    "<img src=\"Figures/05-monte-carlo-v-problems.png\" style=\"width: 550px;\"/>\n",
    "\n",
    "<img src=\"Figures/05-monte-carlo-Q.png\" style=\"width: 550px;\"/>"
   ]
  },
  {
   "cell_type": "markdown",
   "metadata": {},
   "source": [
    "### $\\epsilon$-Greedy Exploration\n",
    "\n",
    "* Simplest idea for ensuring continual exploration\n",
    "* All *m* actions are tried with non-zero probability\n",
    "* With probability $1-\\epsilon$ choose the greedy action\n",
    "* With probability $\\epsilon$ choose an action at random\n",
    "\n",
    "<img src=\"Figures/05-monte-carlo-policy-iteration.png\" style=\"width: 550px;\"/>\n",
    "\n",
    "<img src=\"Figures/05-monte-carlo-control.png\" style=\"width: 550px;\"/>\n",
    "\n",
    "* Always act greedily to update the value estimates obtained from each episode and update the policy immediately."
   ]
  },
  {
   "cell_type": "markdown",
   "metadata": {},
   "source": [
    "<img src=\"Figures/05-mc-vs-td.png\" style=\"width: 550px;\"/>\n",
    "\n",
    "<img src=\"Figures/05-sarsa.png\" style=\"width: 550px;\"/>\n",
    "\n",
    "<img src=\"Figures/05-sarsa-policy-improvement.png\" style=\"width: 550px;\"/>"
   ]
  },
  {
   "cell_type": "code",
   "execution_count": null,
   "metadata": {
    "collapsed": true
   },
   "outputs": [],
   "source": []
  }
 ],
 "metadata": {
  "kernelspec": {
   "display_name": "Python [conda env:tamids]",
   "language": "python",
   "name": "conda-env-tamids-py"
  },
  "language_info": {
   "codemirror_mode": {
    "name": "ipython",
    "version": 3
   },
   "file_extension": ".py",
   "mimetype": "text/x-python",
   "name": "python",
   "nbconvert_exporter": "python",
   "pygments_lexer": "ipython3",
   "version": "3.7.2"
  }
 },
 "nbformat": 4,
 "nbformat_minor": 2
}
