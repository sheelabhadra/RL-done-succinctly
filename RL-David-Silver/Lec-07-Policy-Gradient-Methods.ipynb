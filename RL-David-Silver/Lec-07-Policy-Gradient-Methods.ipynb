{
 "cells": [
  {
   "cell_type": "markdown",
   "metadata": {},
   "source": [
    "# Lecture 7: Policy Gradient Methods\n",
    "\n",
    "### Policy-based RL\n",
    "* The policy is directly parametrized\n",
    "$$\\pi_{\\theta}(s,a) = \\mathbb P[a|s,\\theta]$$\n",
    "* We control the parameters of distribution from which we are picking actions. It can be thought of a function approximator where we plug in our state and the model tells us which action to take.\n",
    "\n",
    "### Policy-based vs value-based\n",
    "* Situations where it might be tricky to find the action from the value and policy might be simpler\n",
    "    * eg. in an Atari game, moving to the left when a ball is coming downwards is easier to approximate than figuring out that moving to the left would result in a score of say 1124.\n",
    "    * Policies can be more compact in these cases\n",
    "* It has better convergence property - following gradients to learn the policy leads to smoother updates in the policy\n",
    "* Effective in high-dimensional or continuous action spaces\n",
    "* It can learn stochastic policies\n",
    "* Value-based RL learns a near-deterministic policy (eg. greedy or $\\epsilon$-greedy) while policy-based RL can learn the optimal stochastic policy (especially true in POMDP)\n",
    "\n",
    "#### Disadvantages\n",
    "* Naive policy based RL can be slower and have high variance\n",
    "* It typically converges to a local instead of a global optimum"
   ]
  },
  {
   "cell_type": "markdown",
   "metadata": {},
   "source": [
    "### Policy Optimization\n",
    "* Find $\\theta$ that maximizes $J(\\theta)$\n",
    "* Gradient-based methods are more efficient\n",
    "    * Gradient descent\n",
    "    * Conjugate gradient\n",
    "    * Quasi newton"
   ]
  },
  {
   "cell_type": "code",
   "execution_count": null,
   "metadata": {
    "collapsed": true
   },
   "outputs": [],
   "source": []
  }
 ],
 "metadata": {
  "kernelspec": {
   "display_name": "Python [conda env:tamids]",
   "language": "python",
   "name": "conda-env-tamids-py"
  },
  "language_info": {
   "codemirror_mode": {
    "name": "ipython",
    "version": 3
   },
   "file_extension": ".py",
   "mimetype": "text/x-python",
   "name": "python",
   "nbconvert_exporter": "python",
   "pygments_lexer": "ipython3",
   "version": "3.7.2"
  }
 },
 "nbformat": 4,
 "nbformat_minor": 2
}
