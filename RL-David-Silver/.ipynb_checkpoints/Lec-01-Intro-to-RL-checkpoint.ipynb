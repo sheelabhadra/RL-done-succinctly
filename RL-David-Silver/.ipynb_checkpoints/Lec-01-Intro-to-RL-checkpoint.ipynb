{
 "cells": [
  {
   "cell_type": "markdown",
   "metadata": {},
   "source": [
    "# Lecture 1: Introduction to Reinforcement Learning"
   ]
  },
  {
   "cell_type": "markdown",
   "metadata": {},
   "source": [
    "### How is reinforcement learning different?\n",
    "\n",
    "- There's no supervisor, only a *reward* signal\n",
    "    - There's no immediate feedback on whether the decision was good or bad\n",
    "- Feedback is delayed, not instantaneous\n",
    "    - The feedback is obtained many steps later to know whether the set of decisions were good or bad\n",
    "- Time really matters (sequential, non i.i.d data)\n",
    "    - An agent moves through a dynamic system where things observed at a time instant are correlated with the things observed in the immediate next time instant\n",
    "- Agent's actions affect the subsequent data it receives"
   ]
  },
  {
   "cell_type": "markdown",
   "metadata": {},
   "source": [
    "### Areas of application\n",
    "\n",
    "- Robotics: fly stunt manuevers in a helicopter (reward- good/bad)\n",
    "- Video Games: Backgammon (reward- score)\n",
    "- Investment and trading: manage an investment portfolio (reward- money)\n",
    "- Machine control: control a power station, wind-mill (reward- efficient energy generation)\n",
    "- Humanoid robots: make a humanoid robot walk (reward- distance walked/falling over)\n",
    "- Artificial General Intelligence (AGI) or general AI: play many Atari games better than humans (reward- score)"
   ]
  },
  {
   "cell_type": "code",
   "execution_count": null,
   "metadata": {
    "collapsed": true
   },
   "outputs": [],
   "source": []
  }
 ],
 "metadata": {
  "kernelspec": {
   "display_name": "Python [conda env:tamids]",
   "language": "python",
   "name": "conda-env-tamids-py"
  },
  "language_info": {
   "codemirror_mode": {
    "name": "ipython",
    "version": 3
   },
   "file_extension": ".py",
   "mimetype": "text/x-python",
   "name": "python",
   "nbconvert_exporter": "python",
   "pygments_lexer": "ipython3",
   "version": "3.7.2"
  }
 },
 "nbformat": 4,
 "nbformat_minor": 2
}
